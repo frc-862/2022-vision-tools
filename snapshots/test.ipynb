{
 "cells": [
  {
   "cell_type": "code",
   "execution_count": 1,
   "metadata": {},
   "outputs": [],
   "source": [
    "import numpy as np\n",
    "import os\n",
    "import ipywidgets\n",
    "import cv2"
   ]
  },
  {
   "cell_type": "code",
   "execution_count": 2,
   "metadata": {},
   "outputs": [
    {
     "name": "stdout",
     "output_type": "stream",
     "text": [
      "2185.jpg\n"
     ]
    }
   ],
   "source": [
    "def nothing(x):\n",
    "    pass\n",
    "\n",
    "cv2.namedWindow('marking')\n",
    "\n",
    "cv2.createTrackbar('H Lower','marking',0,179,nothing)\n",
    "cv2.createTrackbar('H Higher','marking',179,179,nothing)\n",
    "cv2.createTrackbar('S Lower','marking',0,255,nothing)\n",
    "cv2.createTrackbar('S Higher','marking',255,255,nothing)\n",
    "cv2.createTrackbar('V Lower','marking',0,255,nothing)\n",
    "cv2.createTrackbar('V Higher','marking',255,255,nothing)\n",
    "\n",
    "base_path = os.getcwd()\n",
    "\n",
    "for my_path, my_subdirs, my_files in os.walk(base_path):\n",
    "    for my_file in my_files:\n",
    "        if (my_file.endswith(\".jpg\")):\n",
    "            print(my_file)\n",
    "            frame = cv2.imread(my_file)\n",
    "            blurred_frame = cv2.GaussianBlur(frame, (5, 5), 0)\n",
    "            hsv = cv2.cvtColor(blurred_frame, cv2.COLOR_BGR2HSV)\n",
    "\n",
    "            hL = cv2.getTrackbarPos('H Lower','marking')\n",
    "            hH = cv2.getTrackbarPos('H Higher','marking')\n",
    "            sL = cv2.getTrackbarPos('S Lower','marking')\n",
    "            sH = cv2.getTrackbarPos('S Higher','marking')\n",
    "            vL = cv2.getTrackbarPos('V Lower','marking')\n",
    "            vH = cv2.getTrackbarPos('V Higher','marking')\n",
    "\n",
    "            lower = np.array([hL, sL, vL])\n",
    "            upper = np.array([hH, sH, vH])\n",
    "            mask = cv2.inRange(hsv, lower, upper)\n",
    "            contours, _ = cv2.findContours(mask, cv2.RETR_TREE, cv2.CHAIN_APPROX_NONE)\n",
    "\n",
    "            for contour in contours:\n",
    "                area = cv2.contourArea(contour)\n",
    "                if area > 5000:\n",
    "                     # -- Draw Option 1 --\n",
    "                     cv2.drawContours(frame, contour, -1, (0, 255, 0), 3)\n",
    "\n",
    "                     # -- Draw Option 2--\n",
    "                     # rect = cv2.boundingRect(contour)\n",
    "                     # x, y, w, h = rect\n",
    "                     # cv2.rectangle(frame, (x, y), (x + w, y + h), (0, 255, 0), 2)\n",
    "\n",
    "            cv2.imshow(\"Mask\", mask)\n",
    "            cv2.imshow(\"Frame\", frame)\n",
    "\n",
    "            cv2.waitKey(0)"
   ]
  }
 ],
 "metadata": {
  "interpreter": {
   "hash": "916dbcbb3f70747c44a77c7bcd40155683ae19c65e1c03b4aa3499c5328201f1"
  },
  "kernelspec": {
   "display_name": "Python 3 (ipykernel)",
   "language": "python",
   "name": "python3"
  },
  "language_info": {
   "codemirror_mode": {
    "name": "ipython",
    "version": 3
   },
   "file_extension": ".py",
   "mimetype": "text/x-python",
   "name": "python",
   "nbconvert_exporter": "python",
   "pygments_lexer": "ipython3",
   "version": "3.9.2"
  }
 },
 "nbformat": 4,
 "nbformat_minor": 2
}
